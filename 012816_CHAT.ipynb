{
 "cells": [
  {
   "cell_type": "markdown",
   "metadata": {},
   "source": [
    "## GradStatChat\n",
    "\n",
    "- Brian - Genomic data, expression data, cis eqtl, association. R and python\n",
    "- Jose - Genomic data, machine learning. R and python\n",
    "- Francine - Metagenomic data, Biosynthetic gene cluster (BGC). Gene assembly. R and python.\n",
    "- Max - Image classification, machine learning, clustering algorithm (e.g. PCA). R, python(Image feature extraction) and Matlab (Image feature extraction)\n",
    "- Pierre - Organelle proteomic data, organelles prediction, PCA and t-SNE. R and Shiny, Java.\n"
   ]
  },
  {
   "cell_type": "markdown",
   "metadata": {},
   "source": [
    "## Datasets\n",
    "- Country prediction based on pubmed abstract\n",
    "- Movie reviews\n",
    "- Princeton freefood prediction\n",
    "- Twitter\n",
    "- SBIR grants\n",
    "    - Type of technology used\n",
    "\n",
    "## Sources\n",
    "- Data.gov\n",
    "- https://github.com/caesar0301/awesome-public-datasets\n",
    "\n",
    "## Problems\n",
    "- Predict grant \n",
    "- Movie reviews\n",
    "- Time to get hooked to a show\n",
    "- Trends associated to twitter feed\n",
    "- Brand Sentiment prediction based on webscrapping of pages that talk about a company\n",
    "    - Internal Sentiment analysis\n",
    "- Price fluctuation\n",
    "- Job linkedin data\n",
    "    - Predict individual trend that got a job\n",
    "    - Predict what makes an indivual stay in a company\n",
    "- Trends in startup companies that are getting funded\n",
    "    - Predict who is being succesful, what features make a company succesful"
   ]
  },
  {
   "cell_type": "markdown",
   "metadata": {},
   "source": [
    "## Project"
   ]
  },
  {
   "cell_type": "markdown",
   "metadata": {},
   "source": [
    "- SBIR - Max\n",
    "- NIH Abstract - Pierre\n",
    "- Linkedin - Jose\n",
    "- Raw text method extraction - Brian\n",
    "- ? - Francine"
   ]
  },
  {
   "cell_type": "code",
   "execution_count": null,
   "metadata": {
    "collapsed": true
   },
   "outputs": [],
   "source": []
  }
 ],
 "metadata": {
  "kernelspec": {
   "display_name": "Python 2",
   "language": "python",
   "name": "python2"
  },
  "language_info": {
   "codemirror_mode": {
    "name": "ipython",
    "version": 2
   },
   "file_extension": ".py",
   "mimetype": "text/x-python",
   "name": "python",
   "nbconvert_exporter": "python",
   "pygments_lexer": "ipython2",
   "version": "2.7.6"
  }
 },
 "nbformat": 4,
 "nbformat_minor": 0
}
